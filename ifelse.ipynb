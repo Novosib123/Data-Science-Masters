{
 "cells": [
  {
   "cell_type": "markdown",
   "id": "d8e22616-ccc2-42ec-b3ab-a7611e43121b",
   "metadata": {},
   "source": [
    "## Variable Assignment"
   ]
  },
  {
   "cell_type": "code",
   "execution_count": 2,
   "id": "adf991f6-b64d-4519-af30-b217051d7ce8",
   "metadata": {},
   "outputs": [
    {
     "data": {
      "text/plain": [
       "123"
      ]
     },
     "execution_count": 2,
     "metadata": {},
     "output_type": "execute_result"
    }
   ],
   "source": [
    "int('123')"
   ]
  },
  {
   "cell_type": "code",
   "execution_count": 3,
   "id": "2be29b48-8e12-41fa-ad04-421e07103f6f",
   "metadata": {},
   "outputs": [
    {
     "data": {
      "text/plain": [
       "1"
      ]
     },
     "execution_count": 3,
     "metadata": {},
     "output_type": "execute_result"
    }
   ],
   "source": [
    "int(1.524)"
   ]
  },
  {
   "cell_type": "markdown",
   "id": "58abe5be-965d-4ca2-8311-626d18633e20",
   "metadata": {},
   "source": [
    "## concatination between different types"
   ]
  },
  {
   "cell_type": "code",
   "execution_count": 7,
   "id": "4a66c5c9-3c42-4be7-9022-b8fb0c0a2718",
   "metadata": {},
   "outputs": [
    {
     "name": "stdout",
     "output_type": "stream",
     "text": [
      "my name is Igor and age is 44\n"
     ]
    }
   ],
   "source": [
    "name=\"Igor\"\n",
    "age = 44\n",
    "print(\"my name is {firstname} and age is {myage}\".format(firstname=name,myage=age))"
   ]
  },
  {
   "cell_type": "code",
   "execution_count": 8,
   "id": "5e22bfb6-0a7a-45c2-8415-6e4ef08c20f1",
   "metadata": {},
   "outputs": [
    {
     "name": "stdout",
     "output_type": "stream",
     "text": [
      "My name is Igor and age is 44\n"
     ]
    }
   ],
   "source": [
    "print(f\"My name is {name} and age is {age}\")"
   ]
  },
  {
   "cell_type": "code",
   "execution_count": 12,
   "id": "316369f3-e430-4fb0-9cad-a7db31c80f57",
   "metadata": {},
   "outputs": [
    {
     "name": "stdin",
     "output_type": "stream",
     "text": [
      "Enter the age 46\n"
     ]
    },
    {
     "name": "stdout",
     "output_type": "stream",
     "text": [
      "Thank you !\n"
     ]
    }
   ],
   "source": [
    "age=int(input(\"Enter the age\"))\n",
    "if age>=18 and age <= 45:\n",
    "    print(\"You are young blood\")\n",
    "else:\n",
    "    print(\"Thank you !\")"
   ]
  },
  {
   "cell_type": "code",
   "execution_count": 16,
   "id": "40b73ca4-c335-4269-8dfd-12cb3109d9bc",
   "metadata": {},
   "outputs": [
    {
     "name": "stdin",
     "output_type": "stream",
     "text": [
      "Please enter the product price: 1200\n"
     ]
    },
    {
     "data": {
      "text/plain": [
       "840.0"
      ]
     },
     "execution_count": 16,
     "metadata": {},
     "output_type": "execute_result"
    }
   ],
   "source": [
    "price=float(input(\"Please enter the product price:\"))\n",
    "if price < 1000:\n",
    "    productprice = price * 0.8\n",
    "else:\n",
    "    productprice = price * 0.7\n",
    "productprice"
   ]
  },
  {
   "cell_type": "code",
   "execution_count": null,
   "id": "f352e7ae-4085-4ba0-a92a-cad179033104",
   "metadata": {},
   "outputs": [],
   "source": []
  }
 ],
 "metadata": {
  "kernelspec": {
   "display_name": "Python 3 (ipykernel)",
   "language": "python",
   "name": "python3"
  },
  "language_info": {
   "codemirror_mode": {
    "name": "ipython",
    "version": 3
   },
   "file_extension": ".py",
   "mimetype": "text/x-python",
   "name": "python",
   "nbconvert_exporter": "python",
   "pygments_lexer": "ipython3",
   "version": "3.10.8"
  }
 },
 "nbformat": 4,
 "nbformat_minor": 5
}
